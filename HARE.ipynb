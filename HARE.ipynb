{
  "nbformat": 4,
  "nbformat_minor": 0,
  "metadata": {
    "colab": {
      "provenance": [],
      "authorship_tag": "ABX9TyPTzHK1lEeFcOCmkPCbBT+f",
      "include_colab_link": true
    },
    "kernelspec": {
      "name": "python3",
      "display_name": "Python 3"
    },
    "language_info": {
      "name": "python"
    }
  },
  "cells": [
    {
      "cell_type": "markdown",
      "metadata": {
        "id": "view-in-github",
        "colab_type": "text"
      },
      "source": [
        "<a href=\"https://colab.research.google.com/github/PareskiyIvan/Engineering/blob/main/HARE.ipynb\" target=\"_parent\"><img src=\"https://colab.research.google.com/assets/colab-badge.svg\" alt=\"Open In Colab\"/></a>"
      ]
    },
    {
      "cell_type": "code",
      "execution_count": null,
      "metadata": {
        "id": "VeMFY6LAnaH3"
      },
      "outputs": [],
      "source": [
        "import numpy as np\n",
        "import matplotlib.pyplot as plt\n",
        "import matplotlib.animation as animation\n",
        "\n",
        "R = 700\n",
        "Vhare = 5\n",
        "Vdog = 5.35\n",
        "dt = 1\n",
        "da = (Vhare*dt) / R\n",
        "\n",
        "n = 800  # Количество кадров анимации\n",
        "\n",
        "Xhare = np.zeros(n)\n",
        "Yhare = np.zeros(n)\n",
        "Xdog = np.zeros(n)\n",
        "Ydog = np.zeros(n)\n",
        "f = np.zeros(n)\n",
        "\n",
        "Xdog[0] = -R\n",
        "Ydog[0] = 0\n",
        "\n",
        "for i in range(n):\n",
        "    Xhare[i] = R * np.sin(da*i)\n",
        "    Yhare[i] = R * np.cos(da*i)\n",
        "    f[i] = np.arctan2((Yhare[i] - Ydog[i]), (Xhare[i] - Xdog[i]))\n",
        "\n",
        "fig, ax = plt.subplots()\n",
        "ax.set_xlim(-R, R)\n",
        "ax.set_ylim(-R, R)\n",
        "ax.axhline(xmin=0,xmax=1, color='k')\n",
        "ax.axvline(ymin=0,ymax=1, color='k')\n",
        "ax.set_xlim(-R*1.1, R*1,1)\n",
        "ax.set_ylim(-R*1.1, R*1,1)\n",
        "ax.set_xlabel('Ос Х')\n",
        "ax.set_ylabel('Ос Y')\n",
        "\n",
        "\n",
        "\n",
        "\n",
        "\n",
        "hare_line, = ax.plot([], [], 'b-', label='Hare')\n",
        "dog_line, = ax.plot([], [], 'r-', label='Dog')\n",
        "hare_point, = ax.plot([], [], 'bo')\n",
        "dog_point, = ax.plot([], [], 'ro')\n",
        "\n",
        "\n",
        "\n",
        "def init():\n",
        "    hare_line.set_data([], [])\n",
        "    dog_line.set_data([], [])\n",
        "    hare_point.set_data([], [])\n",
        "    dog_point.set_data([], [])\n",
        "    return hare_line, dog_line, hare_point, dog_point\n",
        "\n",
        "\n",
        "    ax.annotate(\"Заяц\", xy=(Xhare[0], Yhare[0]),xytext=(-10,10), textcoords=\"offset points\", ha=\"center\")\n",
        "    ax.annotate(\"Собака\", xy=(Xdog[0], Ydog[0]),xytext=(-10,10), textcoords=\"offset points\", ha=\"center\")\n",
        "    return hare_line, dog_line, hare_point, dog_point\n",
        "\n",
        "def animate(i):\n",
        "    hare_line.set_data(Xhare[:i+1], Yhare[:i+1])\n",
        "    dog_line.set_data(Xdog[:i+1], Ydog[:i+1])\n",
        "    hare_point.set_data(Xhare[i], Yhare[i])\n",
        "    dog_point.set_data(Xdog[i], Ydog[i])\n",
        "    return hare_line, dog_line, hare_point, dog_point\n",
        "\n",
        "def update(frame):\n",
        "    global Xdog, Ydog, f\n",
        "    if frame < n-1:\n",
        "        Xdog[frame+1] = Xdog[frame] + Vdog * dt * np.cos(f[frame])\n",
        "        Ydog[frame+1] = Ydog[frame] + Vdog * dt * np.sin(f[frame])\n",
        "        f[frame+1] = np.arctan2((Yhare[frame] - Ydog[frame]), (Xhare[frame] - Xdog[frame]))\n",
        "\n",
        "    return animate(frame)\n",
        "\n",
        "ax.legend()\n",
        "\n",
        "ani = animation.FuncAnimation(fig, update, frames=n, interval=100, blit=True, init_func=init)\n",
        "ani.save('double.mp4',fps=30, extra_args=['-vcodec','libx264'])\n",
        "plt.show()"
      ]
    }
  ]
}